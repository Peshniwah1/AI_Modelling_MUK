{
  "cells": [
    {
      "cell_type": "markdown",
      "metadata": {
        "id": "view-in-github",
        "colab_type": "text"
      },
      "source": [
        "<a href=\"https://colab.research.google.com/github/Peshniwah1/AI_Modelling_MUK/blob/main/Copy_of_Python_part_1.ipynb\" target=\"_parent\"><img src=\"https://colab.research.google.com/assets/colab-badge.svg\" alt=\"Open In Colab\"/></a>"
      ]
    },
    {
      "cell_type": "markdown",
      "metadata": {
        "id": "dMTZ9RJLQ8V6"
      },
      "source": [
        "# **Python Programming for Machine Learning**"
      ]
    },
    {
      "cell_type": "markdown",
      "metadata": {
        "id": "3lI0BAV3RLei"
      },
      "source": [
        "**Guidelines:**\n",
        "\n",
        "Save a copy of this Notebook to your drive and work and share after to your github account.\n",
        "\n",
        "Read the instructions carefully before attempting each exercise.\n",
        "\n",
        "Make sure to test your code with different input values to ensure it works as expected.\n",
        "\n",
        "Use appropriate variable names and comments to make your code easy to understand.\n",
        "\n",
        "If you're unsure how to solve an exercise, try breaking it down into smaller parts and tackling each part separately.\n",
        "\n",
        "Feel free to use online resources or ask for help if you get stuck.\n",
        "\n",
        "**Warnings:**\n",
        "\n",
        "Be careful when using user input, as it may not always be in the expected format. Make sure to handle errors and invalid input appropriately.\n",
        "\n",
        "When working with floats, be aware that floating point arithmetic can sometimes result in rounding errors or unexpected behavior. Be careful when swapping values in Exercise 8, as you may accidentally overwrite one of the values.\n",
        "\n",
        "When checking if a string contains a certain substring in Exercise 14, be aware that the function you use may be case-sensitive.\n",
        "\n",
        "Be careful when checking if the difference of two floats is less than a threshold in Exercise 13, as floating point arithmetic may result in unexpected behavior.\n",
        "\n",
        "Comment on your work for better understanding."
      ]
    },
    {
      "cell_type": "markdown",
      "metadata": {
        "id": "-78pddqdPzsW"
      },
      "source": [
        "Write a program that takes an integer input from the user and prints out its square."
      ]
    },
    {
      "cell_type": "code",
      "execution_count": 1,
      "metadata": {
        "id": "-s0R6VVVQRj1",
        "colab": {
          "base_uri": "https://localhost:8080/",
          "height": 484
        },
        "outputId": "80790e2c-509c-400a-c527-dcc898858907"
      },
      "outputs": [
        {
          "output_type": "stream",
          "name": "stdout",
          "text": [
            "Enter an integer (or 'q' to quit): 5\n",
            "The square of 5 is 25\n",
            "Enter an integer (or 'q' to quit): 2\n",
            "The square of 2 is 4\n",
            "Enter an integer (or 'q' to quit): 9\n",
            "The square of 9 is 81\n"
          ]
        },
        {
          "output_type": "error",
          "ename": "KeyboardInterrupt",
          "evalue": "ignored",
          "traceback": [
            "\u001b[0;31m---------------------------------------------------------------------------\u001b[0m",
            "\u001b[0;31mKeyboardInterrupt\u001b[0m                         Traceback (most recent call last)",
            "\u001b[0;32m<ipython-input-1-fa6d368d214b>\u001b[0m in \u001b[0;36m<cell line: 1>\u001b[0;34m()\u001b[0m\n\u001b[1;32m      1\u001b[0m \u001b[0;32mwhile\u001b[0m \u001b[0;32mTrue\u001b[0m\u001b[0;34m:\u001b[0m\u001b[0;34m\u001b[0m\u001b[0;34m\u001b[0m\u001b[0m\n\u001b[1;32m      2\u001b[0m     \u001b[0;32mtry\u001b[0m\u001b[0;34m:\u001b[0m\u001b[0;34m\u001b[0m\u001b[0;34m\u001b[0m\u001b[0m\n\u001b[0;32m----> 3\u001b[0;31m         \u001b[0mnumber\u001b[0m \u001b[0;34m=\u001b[0m \u001b[0mint\u001b[0m\u001b[0;34m(\u001b[0m\u001b[0minput\u001b[0m\u001b[0;34m(\u001b[0m\u001b[0;34m\"Enter an integer (or 'q' to quit): \"\u001b[0m\u001b[0;34m)\u001b[0m\u001b[0;34m)\u001b[0m\u001b[0;34m\u001b[0m\u001b[0;34m\u001b[0m\u001b[0m\n\u001b[0m\u001b[1;32m      4\u001b[0m         \u001b[0;32mif\u001b[0m \u001b[0mnumber\u001b[0m \u001b[0;34m==\u001b[0m \u001b[0;34m'q'\u001b[0m\u001b[0;34m:\u001b[0m\u001b[0;34m\u001b[0m\u001b[0;34m\u001b[0m\u001b[0m\n\u001b[1;32m      5\u001b[0m             \u001b[0;32mbreak\u001b[0m\u001b[0;34m\u001b[0m\u001b[0;34m\u001b[0m\u001b[0m\n",
            "\u001b[0;32m/usr/local/lib/python3.10/dist-packages/ipykernel/kernelbase.py\u001b[0m in \u001b[0;36mraw_input\u001b[0;34m(self, prompt)\u001b[0m\n\u001b[1;32m    849\u001b[0m                 \u001b[0;34m\"raw_input was called, but this frontend does not support input requests.\"\u001b[0m\u001b[0;34m\u001b[0m\u001b[0;34m\u001b[0m\u001b[0m\n\u001b[1;32m    850\u001b[0m             )\n\u001b[0;32m--> 851\u001b[0;31m         return self._input_request(str(prompt),\n\u001b[0m\u001b[1;32m    852\u001b[0m             \u001b[0mself\u001b[0m\u001b[0;34m.\u001b[0m\u001b[0m_parent_ident\u001b[0m\u001b[0;34m,\u001b[0m\u001b[0;34m\u001b[0m\u001b[0;34m\u001b[0m\u001b[0m\n\u001b[1;32m    853\u001b[0m             \u001b[0mself\u001b[0m\u001b[0;34m.\u001b[0m\u001b[0m_parent_header\u001b[0m\u001b[0;34m,\u001b[0m\u001b[0;34m\u001b[0m\u001b[0;34m\u001b[0m\u001b[0m\n",
            "\u001b[0;32m/usr/local/lib/python3.10/dist-packages/ipykernel/kernelbase.py\u001b[0m in \u001b[0;36m_input_request\u001b[0;34m(self, prompt, ident, parent, password)\u001b[0m\n\u001b[1;32m    893\u001b[0m             \u001b[0;32mexcept\u001b[0m \u001b[0mKeyboardInterrupt\u001b[0m\u001b[0;34m:\u001b[0m\u001b[0;34m\u001b[0m\u001b[0;34m\u001b[0m\u001b[0m\n\u001b[1;32m    894\u001b[0m                 \u001b[0;31m# re-raise KeyboardInterrupt, to truncate traceback\u001b[0m\u001b[0;34m\u001b[0m\u001b[0;34m\u001b[0m\u001b[0m\n\u001b[0;32m--> 895\u001b[0;31m                 \u001b[0;32mraise\u001b[0m \u001b[0mKeyboardInterrupt\u001b[0m\u001b[0;34m(\u001b[0m\u001b[0;34m\"Interrupted by user\"\u001b[0m\u001b[0;34m)\u001b[0m \u001b[0;32mfrom\u001b[0m \u001b[0;32mNone\u001b[0m\u001b[0;34m\u001b[0m\u001b[0;34m\u001b[0m\u001b[0m\n\u001b[0m\u001b[1;32m    896\u001b[0m             \u001b[0;32mexcept\u001b[0m \u001b[0mException\u001b[0m \u001b[0;32mas\u001b[0m \u001b[0me\u001b[0m\u001b[0;34m:\u001b[0m\u001b[0;34m\u001b[0m\u001b[0;34m\u001b[0m\u001b[0m\n\u001b[1;32m    897\u001b[0m                 \u001b[0mself\u001b[0m\u001b[0;34m.\u001b[0m\u001b[0mlog\u001b[0m\u001b[0;34m.\u001b[0m\u001b[0mwarning\u001b[0m\u001b[0;34m(\u001b[0m\u001b[0;34m\"Invalid Message:\"\u001b[0m\u001b[0;34m,\u001b[0m \u001b[0mexc_info\u001b[0m\u001b[0;34m=\u001b[0m\u001b[0;32mTrue\u001b[0m\u001b[0;34m)\u001b[0m\u001b[0;34m\u001b[0m\u001b[0;34m\u001b[0m\u001b[0m\n",
            "\u001b[0;31mKeyboardInterrupt\u001b[0m: Interrupted by user"
          ]
        }
      ],
      "source": [
        "while True:\n",
        "    try:\n",
        "        number = int(input(\"Enter an integer (or 'q' to quit): \"))\n",
        "        if number == 'q':\n",
        "            break\n",
        "        square = number ** 2\n",
        "        print(\"The square of\", number, \"is\", square)\n",
        "    except ValueError:\n",
        "        print(\"Invalid input. Please enter an integer or 'q' to quit.\")\n",
        "        \n",
        "\n"
      ]
    },
    {
      "cell_type": "markdown",
      "metadata": {
        "id": "X61wmnWDP3-O"
      },
      "source": [
        "Write a program that takes two integer inputs from the user and prints out their sum, difference, product, and quotient."
      ]
    },
    {
      "cell_type": "code",
      "execution_count": null,
      "metadata": {
        "id": "1K4fgK4GP42O"
      },
      "outputs": [],
      "source": [
        "while True:\n",
        "    try:\n",
        "        num1 = int(input(\"Enter the first integer (or 'q' to quit): \"))\n",
        "        if num1 == 'q':\n",
        "            break\n",
        "        num2 = int(input(\"Enter the second integer: \"))\n",
        "\n",
        "        sum = num1 + num2\n",
        "        difference = num1 - num2\n",
        "        product = num1 * num2\n",
        "        quotient = num1 / num2\n",
        "\n",
        "        print(\"Sum:\", sum)\n",
        "        print(\"Difference:\", difference)\n",
        "        print(\"Product:\", product)\n",
        "        print(\"Quotient:\", quotient)\n",
        "    except ValueError:\n",
        "        print(\"Invalid input. Please enter integers or 'q' to quit.\")\n",
        "    except ZeroDivisionError:\n",
        "        print(\"Error: Cannot divide by zero.\")\n"
      ]
    },
    {
      "cell_type": "markdown",
      "metadata": {
        "id": "mpCgWmeEP5e5"
      },
      "source": [
        "Write a program that takes a float input from the user and rounds it to the nearest integer."
      ]
    },
    {
      "cell_type": "code",
      "execution_count": null,
      "metadata": {
        "id": "UQpuFEbPP8IZ"
      },
      "outputs": [],
      "source": [
        "def round_to_nearest_integer(number):\n",
        "    return int(number + 0.5) if number >= 0 else int(number - 0.5)\n",
        "\n",
        "# Get input from the user\n",
        "input_number = float(input(\"Enter a float number: \"))\n",
        "\n",
        "# Round the input number to the nearest integer\n",
        "rounded_number = round_to_nearest_integer(input_number)\n",
        "\n",
        "# Print the result\n",
        "print(\"Rounded number:\", rounded_number)\n"
      ]
    },
    {
      "cell_type": "markdown",
      "metadata": {
        "id": "CAczybwNP8nA"
      },
      "source": [
        "Write a program that takes a string input from the user and prints out its length."
      ]
    },
    {
      "cell_type": "code",
      "execution_count": null,
      "metadata": {
        "id": "ooj2Uz8HP_wh"
      },
      "outputs": [],
      "source": [
        "# Get input from the user\n",
        "input_string = input(\"Enter a string: \")\n",
        "\n",
        "# Calculate the length of the input string\n",
        "length = len(input_string)\n",
        "\n",
        "# Print the length of the string\n",
        "print(\"Length of the string:\", length)\n",
        "\n"
      ]
    },
    {
      "cell_type": "markdown",
      "metadata": {
        "id": "bQSB32lAP-Rh"
      },
      "source": [
        "Write a program that takes a string input from the user and prints out its first and last characters."
      ]
    },
    {
      "cell_type": "code",
      "execution_count": null,
      "metadata": {
        "id": "XT-dWoJVQEQQ"
      },
      "outputs": [],
      "source": [
        "user_input = input(\"Enter a string: \")\n",
        "first_character = user_input[0]\n",
        "last_character = user_input[-1]\n",
        "\n",
        "print(\"First character:\", first_character)\n",
        "print(\"Last character:\", last_character)\n"
      ]
    },
    {
      "cell_type": "markdown",
      "metadata": {
        "id": "ul2lezpeQEwS"
      },
      "source": [
        "Write a program that takes two string inputs from the user and concatenates them."
      ]
    },
    {
      "cell_type": "code",
      "execution_count": null,
      "metadata": {
        "id": "Z_wd96-RQGsj"
      },
      "outputs": [],
      "source": [
        "string1 = input(\"Enter the first string: \")\n",
        "string2 = input(\"Enter the second string: \")\n",
        "\n",
        "concatenated_string = string1 + string2\n",
        "\n",
        "print(\"Concatenated string:\", concatenated_string)\n",
        " string1  = \"Hello\"\n",
        " string2  = \"Pesh\"\n"
      ]
    },
    {
      "cell_type": "markdown",
      "metadata": {
        "id": "uLHd9Y5yQHIK"
      },
      "source": [
        "Write a program that takes a string input from the user and prints out each character on a new line."
      ]
    },
    {
      "cell_type": "code",
      "execution_count": null,
      "metadata": {
        "id": "9JPysbf-QHwZ"
      },
      "outputs": [],
      "source": [
        "user_input = input(\"Enter a string: \")\n",
        "\n",
        "for char in user_input:\n",
        "    print(char)\n",
        "\n"
      ]
    },
    {
      "cell_type": "markdown",
      "metadata": {
        "id": "pNl1iaydQIWB"
      },
      "source": [
        "Write a program that takes two integer inputs from the user and swaps their values."
      ]
    },
    {
      "cell_type": "code",
      "execution_count": null,
      "metadata": {
        "id": "WmVfgLNCQLLp"
      },
      "outputs": [],
      "source": [
        "# Prompt user for the first integer\n",
        "num1 = int(input(\"Enter the first integer: \"))\n",
        "\n",
        "# Prompt user for the second integer\n",
        "num2 = int(input(\"Enter the second integer: \"))\n",
        "\n",
        "# Print the original values\n",
        "print(\"Before swapping:\")\n",
        "print(\"First integer:\", num1)\n",
        "print(\"Second integer:\", num2)\n",
        "\n",
        "# Swap the values using a temporary variable\n",
        "temp = num1\n",
        "num1 = num2\n",
        "num2 = temp\n",
        "\n",
        "# Print the updated values after swapping\n",
        "print(\"After swapping:\")\n",
        "print(\"First integer:\", num1)\n",
        "print(\"Second integer:\", num2)\n",
        "\n",
        "\n",
        "\n",
        "\n",
        "\n"
      ]
    },
    {
      "cell_type": "markdown",
      "metadata": {
        "id": "N0h-DA5WQMHx"
      },
      "source": [
        "Write a program that takes a string input from the user and converts it to an integer."
      ]
    },
    {
      "cell_type": "code",
      "execution_count": null,
      "metadata": {
        "id": "R27DjKMKQOTR"
      },
      "outputs": [],
      "source": [
        "user_input = input(\"Enter a string: \")\n",
        "\n",
        "try:\n",
        "    converted_int = int(user_input)\n",
        "    print(\"Converted integer:\", converted_int)\n",
        "except ValueError:\n",
        "    print(\"Invalid input. Cannot convert to an integer.\")\n",
        "\n"
      ]
    },
    {
      "cell_type": "markdown",
      "metadata": {
        "id": "-Stm2gxxQOtQ"
      },
      "source": [
        "Write a program that takes a string input from the user and checks if it is a palindrome (i.e., reads the same forwards and backwards)."
      ]
    },
    {
      "cell_type": "code",
      "execution_count": null,
      "metadata": {
        "id": "87swccAkQU2J"
      },
      "outputs": [],
      "source": [
        "user_input = input(\"Enter a string: \")\n",
        "\n",
        "# Remove whitespace and convert to lowercase for case-insensitive comparison\n",
        "user_input = user_input.replace(\" \", \"\").lower()\n",
        "\n",
        "# Reverse the input string\n",
        "reversed_input = user_input[::-1]\n",
        "\n",
        "# Check if the input string and its reverse are the same\n",
        "if user_input == reversed_input:\n",
        "    print(\"The input is a palindrome.\")\n",
        "else:\n",
        "    print(\"The input is not a palindrome.\")\n",
        "\n"
      ]
    },
    {
      "cell_type": "markdown",
      "metadata": {
        "id": "IifcoqbpQTDp"
      },
      "source": [
        "Write a program that takes two integer inputs from the user and checks if they are equal."
      ]
    },
    {
      "cell_type": "code",
      "execution_count": null,
      "metadata": {
        "id": "3jKeaqXjQXxg"
      },
      "outputs": [],
      "source": [
        "def check_equality():\n",
        "    num1 = int(input(\"Enter the first integer: \"))\n",
        "    num2 = int(input(\"Enter the second integer: \"))\n",
        "\n",
        "    if num1 == num2:\n",
        "        print(\"The numbers are equal.\")\n",
        "    else:\n",
        "        print(\"The numbers are not equal.\")\n",
        "\n",
        "check_equality()\n"
      ]
    },
    {
      "cell_type": "markdown",
      "metadata": {
        "id": "ANkArF3ZQYkR"
      },
      "source": [
        "Write a program that takes two float inputs from the user and checks if their difference is less than a certain threshold (e.g., 0.0001)."
      ]
    },
    {
      "cell_type": "code",
      "execution_count": null,
      "metadata": {
        "id": "li9CQn5JQbwo"
      },
      "outputs": [],
      "source": [
        "def check_threshold():\n",
        "    threshold = 0.0001\n",
        "\n",
        "    num1 = float(input(\"Enter the first float number: \"))\n",
        "    num2 = float(input(\"Enter the second float number: \"))\n",
        "\n",
        "    difference = abs(num1 - num2)\n",
        "\n",
        "    if difference < threshold:\n",
        "        print(\"The difference is less than the threshold.\")\n",
        "    else:\n",
        "        print(\"The difference is greater than or equal to the threshold.\")\n",
        "\n",
        "check_threshold()\n",
        "\n"
      ]
    },
    {
      "cell_type": "markdown",
      "metadata": {
        "id": "JYiNQZWEQeAp"
      },
      "source": [
        "Write a program that takes a string input from the user and checks if it contains a certain substring."
      ]
    },
    {
      "cell_type": "code",
      "execution_count": null,
      "metadata": {
        "id": "hfifR2f8QewL"
      },
      "outputs": [],
      "source": [
        "def check_substring():\n",
        "    input_string = input(\"Enter a string: \")\n",
        "    substring = input(\"Enter a substring to check: \")\n",
        "\n",
        "    if substring.lower() in input_string.lower():\n",
        "        print(\"The string contains the substring.\")\n",
        "    else:\n",
        "        print(\"The string does not contain the substring.\")\n",
        "\n",
        "check_substring()\n"
      ]
    },
    {
      "cell_type": "markdown",
      "metadata": {
        "id": "FdGV7Gw9Qggw"
      },
      "source": [
        "Write a program that takes two integer inputs from the user and checks if their sum is even."
      ]
    },
    {
      "cell_type": "code",
      "execution_count": null,
      "metadata": {
        "id": "oO8S9YAyQ43i"
      },
      "outputs": [],
      "source": [
        "def check_sum_even():\n",
        "    num1 = int(input(\"Enter the first integer: \"))\n",
        "    num2 = int(input(\"Enter the second integer: \"))\n",
        "\n",
        "    sum_nums = num1 + num2\n",
        "\n",
        "    if sum_nums % 2 == 0:\n",
        "        print(\"The sum is even.\")\n",
        "    else:\n",
        "        print(\"The sum is odd.\")\n",
        "\n",
        "check_sum_even()\n"
      ]
    }
  ],
  "metadata": {
    "colab": {
      "provenance": [],
      "include_colab_link": true
    },
    "kernelspec": {
      "display_name": "Python 3",
      "name": "python3"
    },
    "language_info": {
      "name": "python"
    }
  },
  "nbformat": 4,
  "nbformat_minor": 0
}