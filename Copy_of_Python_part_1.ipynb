{
  "cells": [
    {
      "cell_type": "markdown",
      "metadata": {
        "id": "view-in-github",
        "colab_type": "text"
      },
      "source": [
        "<a href=\"https://colab.research.google.com/github/Peshniwah1/AI_Modelling_MUK/blob/main/Copy_of_Python_part_1.ipynb\" target=\"_parent\"><img src=\"https://colab.research.google.com/assets/colab-badge.svg\" alt=\"Open In Colab\"/></a>"
      ]
    },
    {
      "cell_type": "markdown",
      "metadata": {
        "id": "dMTZ9RJLQ8V6"
      },
      "source": [
        "# **Python Programming for Machine Learning**"
      ]
    },
    {
      "cell_type": "markdown",
      "metadata": {
        "id": "3lI0BAV3RLei"
      },
      "source": [
        "**Guidelines:**\n",
        "\n",
        "Save a copy of this Notebook to your drive and work and share after to your github account.\n",
        "\n",
        "Read the instructions carefully before attempting each exercise.\n",
        "\n",
        "Make sure to test your code with different input values to ensure it works as expected.\n",
        "\n",
        "Use appropriate variable names and comments to make your code easy to understand.\n",
        "\n",
        "If you're unsure how to solve an exercise, try breaking it down into smaller parts and tackling each part separately.\n",
        "\n",
        "Feel free to use online resources or ask for help if you get stuck.\n",
        "\n",
        "**Warnings:**\n",
        "\n",
        "Be careful when using user input, as it may not always be in the expected format. Make sure to handle errors and invalid input appropriately.\n",
        "\n",
        "When working with floats, be aware that floating point arithmetic can sometimes result in rounding errors or unexpected behavior. Be careful when swapping values in Exercise 8, as you may accidentally overwrite one of the values.\n",
        "\n",
        "When checking if a string contains a certain substring in Exercise 14, be aware that the function you use may be case-sensitive.\n",
        "\n",
        "Be careful when checking if the difference of two floats is less than a threshold in Exercise 13, as floating point arithmetic may result in unexpected behavior.\n",
        "\n",
        "Comment on your work for better understanding."
      ]
    },
    {
      "cell_type": "markdown",
      "metadata": {
        "id": "-78pddqdPzsW"
      },
      "source": [
        "Write a program that takes an integer input from the user and prints out its square."
      ]
    },
    {
      "cell_type": "code",
      "execution_count": 2,
      "metadata": {
        "id": "-s0R6VVVQRj1",
        "colab": {
          "base_uri": "https://localhost:8080/"
        },
        "outputId": "d357b5f5-7d22-44ec-dd71-294c3c477a0f"
      },
      "outputs": [
        {
          "output_type": "stream",
          "name": "stdout",
          "text": [
            "Enter an integer: 5\n",
            "The square of 5 is 25\n"
          ]
        }
      ],
      "source": [
        "def print_square():\n",
        "    num = int(input(\"Enter an integer: \"))\n",
        "    square = num ** 2\n",
        "    print(\"The square of\", num, \"is\", square)\n",
        "\n",
        "print_square()\n",
        "\n",
        "\n",
        "        \n",
        "\n"
      ]
    },
    {
      "cell_type": "markdown",
      "metadata": {
        "id": "X61wmnWDP3-O"
      },
      "source": [
        "Write a program that takes two integer inputs from the user and prints out their sum, difference, product, and quotient."
      ]
    },
    {
      "cell_type": "code",
      "execution_count": 3,
      "metadata": {
        "colab": {
          "base_uri": "https://localhost:8080/",
          "height": 797
        },
        "id": "1K4fgK4GP42O",
        "outputId": "c2baacb6-601b-4e85-865a-1bc312143edf"
      },
      "outputs": [
        {
          "output_type": "stream",
          "name": "stdout",
          "text": [
            "Enter the first integer (or 'q' to quit): 3\n",
            "Enter the second integer: 5\n",
            "Sum: 8\n",
            "Difference: -2\n",
            "Product: 15\n",
            "Quotient: 0.6\n",
            "Enter the first integer (or 'q' to quit): 6\n",
            "Enter the second integer: 9\n",
            "Sum: 15\n",
            "Difference: -3\n",
            "Product: 54\n",
            "Quotient: 0.6666666666666666\n",
            "Enter the first integer (or 'q' to quit): Q\n",
            "Invalid input. Please enter integers or 'q' to quit.\n",
            "Enter the first integer (or 'q' to quit): q\n",
            "Invalid input. Please enter integers or 'q' to quit.\n",
            "Enter the first integer (or 'q' to quit):  'q'\n",
            "Invalid input. Please enter integers or 'q' to quit.\n",
            "Enter the first integer (or 'q' to quit): 7\n",
            "Enter the second integer: 8\n",
            "Sum: 15\n",
            "Difference: -1\n",
            "Product: 56\n",
            "Quotient: 0.875\n"
          ]
        },
        {
          "output_type": "error",
          "ename": "KeyboardInterrupt",
          "evalue": "ignored",
          "traceback": [
            "\u001b[0;31m---------------------------------------------------------------------------\u001b[0m",
            "\u001b[0;31mKeyboardInterrupt\u001b[0m                         Traceback (most recent call last)",
            "\u001b[0;32m<ipython-input-3-9a2592f6509b>\u001b[0m in \u001b[0;36m<cell line: 1>\u001b[0;34m()\u001b[0m\n\u001b[1;32m      1\u001b[0m \u001b[0;32mwhile\u001b[0m \u001b[0;32mTrue\u001b[0m\u001b[0;34m:\u001b[0m\u001b[0;34m\u001b[0m\u001b[0;34m\u001b[0m\u001b[0m\n\u001b[1;32m      2\u001b[0m     \u001b[0;32mtry\u001b[0m\u001b[0;34m:\u001b[0m\u001b[0;34m\u001b[0m\u001b[0;34m\u001b[0m\u001b[0m\n\u001b[0;32m----> 3\u001b[0;31m         \u001b[0mnum1\u001b[0m \u001b[0;34m=\u001b[0m \u001b[0mint\u001b[0m\u001b[0;34m(\u001b[0m\u001b[0minput\u001b[0m\u001b[0;34m(\u001b[0m\u001b[0;34m\"Enter the first integer (or 'q' to quit): \"\u001b[0m\u001b[0;34m)\u001b[0m\u001b[0;34m)\u001b[0m\u001b[0;34m\u001b[0m\u001b[0;34m\u001b[0m\u001b[0m\n\u001b[0m\u001b[1;32m      4\u001b[0m         \u001b[0;32mif\u001b[0m \u001b[0mnum1\u001b[0m \u001b[0;34m==\u001b[0m \u001b[0;34m'q'\u001b[0m\u001b[0;34m:\u001b[0m\u001b[0;34m\u001b[0m\u001b[0;34m\u001b[0m\u001b[0m\n\u001b[1;32m      5\u001b[0m             \u001b[0;32mbreak\u001b[0m\u001b[0;34m\u001b[0m\u001b[0;34m\u001b[0m\u001b[0m\n",
            "\u001b[0;32m/usr/local/lib/python3.10/dist-packages/ipykernel/kernelbase.py\u001b[0m in \u001b[0;36mraw_input\u001b[0;34m(self, prompt)\u001b[0m\n\u001b[1;32m    849\u001b[0m                 \u001b[0;34m\"raw_input was called, but this frontend does not support input requests.\"\u001b[0m\u001b[0;34m\u001b[0m\u001b[0;34m\u001b[0m\u001b[0m\n\u001b[1;32m    850\u001b[0m             )\n\u001b[0;32m--> 851\u001b[0;31m         return self._input_request(str(prompt),\n\u001b[0m\u001b[1;32m    852\u001b[0m             \u001b[0mself\u001b[0m\u001b[0;34m.\u001b[0m\u001b[0m_parent_ident\u001b[0m\u001b[0;34m,\u001b[0m\u001b[0;34m\u001b[0m\u001b[0;34m\u001b[0m\u001b[0m\n\u001b[1;32m    853\u001b[0m             \u001b[0mself\u001b[0m\u001b[0;34m.\u001b[0m\u001b[0m_parent_header\u001b[0m\u001b[0;34m,\u001b[0m\u001b[0;34m\u001b[0m\u001b[0;34m\u001b[0m\u001b[0m\n",
            "\u001b[0;32m/usr/local/lib/python3.10/dist-packages/ipykernel/kernelbase.py\u001b[0m in \u001b[0;36m_input_request\u001b[0;34m(self, prompt, ident, parent, password)\u001b[0m\n\u001b[1;32m    893\u001b[0m             \u001b[0;32mexcept\u001b[0m \u001b[0mKeyboardInterrupt\u001b[0m\u001b[0;34m:\u001b[0m\u001b[0;34m\u001b[0m\u001b[0;34m\u001b[0m\u001b[0m\n\u001b[1;32m    894\u001b[0m                 \u001b[0;31m# re-raise KeyboardInterrupt, to truncate traceback\u001b[0m\u001b[0;34m\u001b[0m\u001b[0;34m\u001b[0m\u001b[0m\n\u001b[0;32m--> 895\u001b[0;31m                 \u001b[0;32mraise\u001b[0m \u001b[0mKeyboardInterrupt\u001b[0m\u001b[0;34m(\u001b[0m\u001b[0;34m\"Interrupted by user\"\u001b[0m\u001b[0;34m)\u001b[0m \u001b[0;32mfrom\u001b[0m \u001b[0;32mNone\u001b[0m\u001b[0;34m\u001b[0m\u001b[0;34m\u001b[0m\u001b[0m\n\u001b[0m\u001b[1;32m    896\u001b[0m             \u001b[0;32mexcept\u001b[0m \u001b[0mException\u001b[0m \u001b[0;32mas\u001b[0m \u001b[0me\u001b[0m\u001b[0;34m:\u001b[0m\u001b[0;34m\u001b[0m\u001b[0;34m\u001b[0m\u001b[0m\n\u001b[1;32m    897\u001b[0m                 \u001b[0mself\u001b[0m\u001b[0;34m.\u001b[0m\u001b[0mlog\u001b[0m\u001b[0;34m.\u001b[0m\u001b[0mwarning\u001b[0m\u001b[0;34m(\u001b[0m\u001b[0;34m\"Invalid Message:\"\u001b[0m\u001b[0;34m,\u001b[0m \u001b[0mexc_info\u001b[0m\u001b[0;34m=\u001b[0m\u001b[0;32mTrue\u001b[0m\u001b[0;34m)\u001b[0m\u001b[0;34m\u001b[0m\u001b[0;34m\u001b[0m\u001b[0m\n",
            "\u001b[0;31mKeyboardInterrupt\u001b[0m: Interrupted by user"
          ]
        }
      ],
      "source": [
        "while True:\n",
        "    try:\n",
        "        num1 = int(input(\"Enter the first integer (or 'q' to quit): \"))\n",
        "        if num1 == 'q':\n",
        "            break\n",
        "        num2 = int(input(\"Enter the second integer: \"))\n",
        "\n",
        "        sum = num1 + num2\n",
        "        difference = num1 - num2\n",
        "        product = num1 * num2\n",
        "        quotient = num1 / num2\n",
        "\n",
        "        print(\"Sum:\", sum)\n",
        "        print(\"Difference:\", difference)\n",
        "        print(\"Product:\", product)\n",
        "        print(\"Quotient:\", quotient)\n",
        "    except ValueError:\n",
        "        print(\"Invalid input. Please enter integers or 'q' to quit.\")\n",
        "    except ZeroDivisionError:\n",
        "        print(\"Error: Cannot divide by zero.\")\n"
      ]
    },
    {
      "cell_type": "markdown",
      "metadata": {
        "id": "mpCgWmeEP5e5"
      },
      "source": [
        "Write a program that takes a float input from the user and rounds it to the nearest integer."
      ]
    },
    {
      "cell_type": "code",
      "execution_count": 4,
      "metadata": {
        "id": "UQpuFEbPP8IZ",
        "colab": {
          "base_uri": "https://localhost:8080/"
        },
        "outputId": "b1c6cec5-fa83-455e-f028-8fe0018e3054"
      },
      "outputs": [
        {
          "output_type": "stream",
          "name": "stdout",
          "text": [
            "Enter a float number: 1.994567\n",
            "Rounded number: 2\n"
          ]
        }
      ],
      "source": [
        "def round_to_nearest_integer(number):\n",
        "    return int(number + 0.5) if number >= 0 else int(number - 0.5)\n",
        "\n",
        "# Get input from the user\n",
        "input_number = float(input(\"Enter a float number: \"))\n",
        "\n",
        "# Round the input number to the nearest integer\n",
        "rounded_number = round_to_nearest_integer(input_number)\n",
        "\n",
        "# Print the result\n",
        "print(\"Rounded number:\", rounded_number)\n"
      ]
    },
    {
      "cell_type": "markdown",
      "metadata": {
        "id": "CAczybwNP8nA"
      },
      "source": [
        "Write a program that takes a string input from the user and prints out its length."
      ]
    },
    {
      "cell_type": "code",
      "execution_count": 5,
      "metadata": {
        "id": "ooj2Uz8HP_wh",
        "colab": {
          "base_uri": "https://localhost:8080/"
        },
        "outputId": "96ef6710-31ce-448a-ccc0-2051bafa01c7"
      },
      "outputs": [
        {
          "output_type": "stream",
          "name": "stdout",
          "text": [
            "Enter a string: hello patience\n",
            "Length of the string: 14\n"
          ]
        }
      ],
      "source": [
        "# Get input from the user\n",
        "input_string = input(\"Enter a string: \")\n",
        "\n",
        "# Calculate the length of the input string\n",
        "length = len(input_string)\n",
        "\n",
        "# Print the length of the string\n",
        "print(\"Length of the string:\", length)\n",
        "\n"
      ]
    },
    {
      "cell_type": "markdown",
      "metadata": {
        "id": "bQSB32lAP-Rh"
      },
      "source": [
        "Write a program that takes a string input from the user and prints out its first and last characters."
      ]
    },
    {
      "cell_type": "code",
      "execution_count": 6,
      "metadata": {
        "id": "XT-dWoJVQEQQ",
        "colab": {
          "base_uri": "https://localhost:8080/"
        },
        "outputId": "e04ba436-d16c-42b3-c19b-51e600bb0407"
      },
      "outputs": [
        {
          "output_type": "stream",
          "name": "stdout",
          "text": [
            "Enter a string: I hate you so much Linah\n",
            "First character: I\n",
            "Last character: h\n"
          ]
        }
      ],
      "source": [
        "user_input = input(\"Enter a string: \")\n",
        "first_character = user_input[0]\n",
        "last_character = user_input[-1]\n",
        "\n",
        "print(\"First character:\", first_character)\n",
        "print(\"Last character:\", last_character)\n"
      ]
    },
    {
      "cell_type": "markdown",
      "metadata": {
        "id": "ul2lezpeQEwS"
      },
      "source": [
        "Write a program that takes two string inputs from the user and concatenates them."
      ]
    },
    {
      "cell_type": "code",
      "execution_count": 9,
      "metadata": {
        "id": "Z_wd96-RQGsj",
        "colab": {
          "base_uri": "https://localhost:8080/",
          "height": 130
        },
        "outputId": "6688bd7b-b3e9-4b0a-d180-940ec002b83a"
      },
      "outputs": [
        {
          "output_type": "error",
          "ename": "IndentationError",
          "evalue": "ignored",
          "traceback": [
            "\u001b[0;36m  File \u001b[0;32m\"<ipython-input-9-638237604fd5>\"\u001b[0;36m, line \u001b[0;32m7\u001b[0m\n\u001b[0;31m    string1  = \"Hello\"\u001b[0m\n\u001b[0m    ^\u001b[0m\n\u001b[0;31mIndentationError\u001b[0m\u001b[0;31m:\u001b[0m unexpected indent\n"
          ]
        }
      ],
      "source": [
        "string1 = input(\"Enter the first string: \")\n",
        "string2 = input(\"Enter the second string: \")\n",
        "\n",
        "concatenated_string = string1 + string2\n",
        "\n",
        "print(\"Concatenated string:\", concatenated_string)\n",
        " string1  = \"Hello\"\n",
        " string2  = \"Pesh\"\n"
      ]
    },
    {
      "cell_type": "markdown",
      "metadata": {
        "id": "uLHd9Y5yQHIK"
      },
      "source": [
        "Write a program that takes a string input from the user and prints out each character on a new line."
      ]
    },
    {
      "cell_type": "code",
      "execution_count": 10,
      "metadata": {
        "id": "9JPysbf-QHwZ",
        "colab": {
          "base_uri": "https://localhost:8080/"
        },
        "outputId": "b43a0df3-92b6-49ff-ec07-13f55cdde93b"
      },
      "outputs": [
        {
          "output_type": "stream",
          "name": "stdout",
          "text": [
            "Enter a string: You should come to town and eat with me\n",
            "Y\n",
            "o\n",
            "u\n",
            " \n",
            "s\n",
            "h\n",
            "o\n",
            "u\n",
            "l\n",
            "d\n",
            " \n",
            "c\n",
            "o\n",
            "m\n",
            "e\n",
            " \n",
            "t\n",
            "o\n",
            " \n",
            "t\n",
            "o\n",
            "w\n",
            "n\n",
            " \n",
            "a\n",
            "n\n",
            "d\n",
            " \n",
            "e\n",
            "a\n",
            "t\n",
            " \n",
            "w\n",
            "i\n",
            "t\n",
            "h\n",
            " \n",
            "m\n",
            "e\n"
          ]
        }
      ],
      "source": [
        "user_input = input(\"Enter a string: \")\n",
        "\n",
        "for char in user_input:\n",
        "    print(char)\n",
        "\n"
      ]
    },
    {
      "cell_type": "markdown",
      "metadata": {
        "id": "pNl1iaydQIWB"
      },
      "source": [
        "Write a program that takes two integer inputs from the user and swaps their values."
      ]
    },
    {
      "cell_type": "code",
      "execution_count": 11,
      "metadata": {
        "id": "WmVfgLNCQLLp",
        "colab": {
          "base_uri": "https://localhost:8080/"
        },
        "outputId": "34317d8b-1fc6-4a87-c104-a1be9d994a60"
      },
      "outputs": [
        {
          "output_type": "stream",
          "name": "stdout",
          "text": [
            "Enter the first integer: 65\n",
            "Enter the second integer: 67\n",
            "Before swapping:\n",
            "First integer: 65\n",
            "Second integer: 67\n",
            "After swapping:\n",
            "First integer: 67\n",
            "Second integer: 65\n"
          ]
        }
      ],
      "source": [
        "# Prompt user for the first integer\n",
        "num1 = int(input(\"Enter the first integer: \"))\n",
        "\n",
        "# Prompt user for the second integer\n",
        "num2 = int(input(\"Enter the second integer: \"))\n",
        "\n",
        "# Print the original values\n",
        "print(\"Before swapping:\")\n",
        "print(\"First integer:\", num1)\n",
        "print(\"Second integer:\", num2)\n",
        "\n",
        "# Swap the values using a temporary variable\n",
        "temp = num1\n",
        "num1 = num2\n",
        "num2 = temp\n",
        "\n",
        "# Print the updated values after swapping\n",
        "print(\"After swapping:\")\n",
        "print(\"First integer:\", num1)\n",
        "print(\"Second integer:\", num2)\n",
        "\n",
        "\n",
        "\n",
        "\n",
        "\n"
      ]
    },
    {
      "cell_type": "markdown",
      "metadata": {
        "id": "N0h-DA5WQMHx"
      },
      "source": [
        "Write a program that takes a string input from the user and converts it to an integer."
      ]
    },
    {
      "cell_type": "code",
      "execution_count": 13,
      "metadata": {
        "id": "R27DjKMKQOTR",
        "colab": {
          "base_uri": "https://localhost:8080/"
        },
        "outputId": "2b40e173-ba3e-4cef-8b41-e008055e2337"
      },
      "outputs": [
        {
          "output_type": "stream",
          "name": "stdout",
          "text": [
            "Enter a string: 354373474\n",
            "Converted integer: 354373474\n"
          ]
        }
      ],
      "source": [
        "user_input = input(\"Enter a string: \")\n",
        "\n",
        "try:\n",
        "    converted_int = int(user_input)\n",
        "    print(\"Converted integer:\", converted_int)\n",
        "except ValueError:\n",
        "    print(\"Invalid input. Cannot convert to an integer.\")\n",
        "\n"
      ]
    },
    {
      "cell_type": "markdown",
      "metadata": {
        "id": "-Stm2gxxQOtQ"
      },
      "source": [
        "Write a program that takes a string input from the user and checks if it is a palindrome (i.e., reads the same forwards and backwards)."
      ]
    },
    {
      "cell_type": "code",
      "execution_count": 15,
      "metadata": {
        "id": "87swccAkQU2J",
        "colab": {
          "base_uri": "https://localhost:8080/"
        },
        "outputId": "b39071d4-b29f-4000-97bd-f55d14d6b378"
      },
      "outputs": [
        {
          "output_type": "stream",
          "name": "stdout",
          "text": [
            "Enter a string: wow\n",
            "The input is a palindrome.\n"
          ]
        }
      ],
      "source": [
        "user_input = input(\"Enter a string: \")\n",
        "\n",
        "# Remove whitespace and convert to lowercase for case-insensitive comparison\n",
        "user_input = user_input.replace(\" \", \"\").lower()\n",
        "\n",
        "# Reverse the input string\n",
        "reversed_input = user_input[::-1]\n",
        "\n",
        "# Check if the input string and its reverse are the same\n",
        "if user_input == reversed_input:\n",
        "    print(\"The input is a palindrome.\")\n",
        "else:\n",
        "    print(\"The input is not a palindrome.\")\n",
        "\n"
      ]
    },
    {
      "cell_type": "markdown",
      "metadata": {
        "id": "IifcoqbpQTDp"
      },
      "source": [
        "Write a program that takes two integer inputs from the user and checks if they are equal."
      ]
    },
    {
      "cell_type": "code",
      "execution_count": 16,
      "metadata": {
        "id": "3jKeaqXjQXxg",
        "colab": {
          "base_uri": "https://localhost:8080/"
        },
        "outputId": "c8e7ef94-f7d4-4bc2-e371-0f51c773a7fd"
      },
      "outputs": [
        {
          "output_type": "stream",
          "name": "stdout",
          "text": [
            "Enter the first integer: 7\n",
            "Enter the second integer: 8\n",
            "The numbers are not equal.\n"
          ]
        }
      ],
      "source": [
        "def check_equality():\n",
        "    num1 = int(input(\"Enter the first integer: \"))\n",
        "    num2 = int(input(\"Enter the second integer: \"))\n",
        "\n",
        "    if num1 == num2:\n",
        "        print(\"The numbers are equal.\")\n",
        "    else:\n",
        "        print(\"The numbers are not equal.\")\n",
        "\n",
        "check_equality()\n"
      ]
    },
    {
      "cell_type": "markdown",
      "metadata": {
        "id": "ANkArF3ZQYkR"
      },
      "source": [
        "Write a program that takes two float inputs from the user and checks if their difference is less than a certain threshold (e.g., 0.0001)."
      ]
    },
    {
      "cell_type": "code",
      "execution_count": 17,
      "metadata": {
        "id": "li9CQn5JQbwo",
        "colab": {
          "base_uri": "https://localhost:8080/"
        },
        "outputId": "63a569e4-4d5b-43dc-bf02-b2d933d36622"
      },
      "outputs": [
        {
          "output_type": "stream",
          "name": "stdout",
          "text": [
            "Enter the first float number: 0.0005\n",
            "Enter the second float number: 0.0004\n",
            "The difference is less than the threshold.\n"
          ]
        }
      ],
      "source": [
        "def check_threshold():\n",
        "    threshold = 0.0001\n",
        "\n",
        "    num1 = float(input(\"Enter the first float number: \"))\n",
        "    num2 = float(input(\"Enter the second float number: \"))\n",
        "\n",
        "    difference = abs(num1 - num2)\n",
        "\n",
        "    if difference < threshold:\n",
        "        print(\"The difference is less than the threshold.\")\n",
        "    else:\n",
        "        print(\"The difference is greater than or equal to the threshold.\")\n",
        "\n",
        "check_threshold()\n",
        "\n"
      ]
    },
    {
      "cell_type": "markdown",
      "metadata": {
        "id": "JYiNQZWEQeAp"
      },
      "source": [
        "Write a program that takes a string input from the user and checks if it contains a certain substring."
      ]
    },
    {
      "cell_type": "code",
      "execution_count": null,
      "metadata": {
        "id": "hfifR2f8QewL"
      },
      "outputs": [],
      "source": [
        "def check_substring():\n",
        "    input_string = input(\"Enter a string: \")\n",
        "    substring = input(\"Enter a substring to check: \")\n",
        "\n",
        "    if substring.lower() in input_string.lower():\n",
        "        print(\"The string contains the substring.\")\n",
        "    else:\n",
        "        print(\"The string does not contain the substring.\")\n",
        "\n",
        "check_substring()\n"
      ]
    },
    {
      "cell_type": "markdown",
      "metadata": {
        "id": "FdGV7Gw9Qggw"
      },
      "source": [
        "Write a program that takes two integer inputs from the user and checks if their sum is even."
      ]
    },
    {
      "cell_type": "code",
      "execution_count": null,
      "metadata": {
        "id": "oO8S9YAyQ43i"
      },
      "outputs": [],
      "source": [
        "def check_sum_even():\n",
        "    num1 = int(input(\"Enter the first integer: \"))\n",
        "    num2 = int(input(\"Enter the second integer: \"))\n",
        "\n",
        "    sum_nums = num1 + num2\n",
        "\n",
        "    if sum_nums % 2 == 0:\n",
        "        print(\"The sum is even.\")\n",
        "    else:\n",
        "        print(\"The sum is odd.\")\n",
        "\n",
        "check_sum_even()\n"
      ]
    }
  ],
  "metadata": {
    "colab": {
      "provenance": [],
      "include_colab_link": true
    },
    "kernelspec": {
      "display_name": "Python 3",
      "name": "python3"
    },
    "language_info": {
      "name": "python"
    }
  },
  "nbformat": 4,
  "nbformat_minor": 0
}