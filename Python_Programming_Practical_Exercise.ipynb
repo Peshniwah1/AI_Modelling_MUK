{
  "nbformat": 4,
  "nbformat_minor": 0,
  "metadata": {
    "colab": {
      "provenance": [],
      "authorship_tag": "ABX9TyOZy0dF6tjPpVK3aLBGh8R1",
      "include_colab_link": true
    },
    "kernelspec": {
      "name": "python3",
      "display_name": "Python 3"
    },
    "language_info": {
      "name": "python"
    }
  },
  "cells": [
    {
      "cell_type": "markdown",
      "metadata": {
        "id": "view-in-github",
        "colab_type": "text"
      },
      "source": [
        "<a href=\"https://colab.research.google.com/github/Peshniwah1/AI_Modelling_MUK/blob/main/Python_Programming_Practical_Exercise.ipynb\" target=\"_parent\"><img src=\"https://colab.research.google.com/assets/colab-badge.svg\" alt=\"Open In Colab\"/></a>"
      ]
    },
    {
      "cell_type": "code",
      "execution_count": null,
      "metadata": {
        "id": "APtmjfv26w6K"
      },
      "outputs": [],
      "source": []
    },
    {
      "cell_type": "code",
      "source": [
        "import math\n",
        "\n",
        "def calculate_square_area():\n",
        "    side = float(input(\"Enter the length of a side: \"))\n",
        "    area = side * side\n",
        "    return area\n",
        "\n",
        "def calculate_rectangle_area():\n",
        "    length = float(input(\"Enter the length: \"))\n",
        "    width = float(input(\"Enter the width: \"))\n",
        "    area = length * width\n",
        "    return area\n",
        "\n",
        "def calculate_circle_area():\n",
        "    radius = float(input(\"Enter the radius: \"))\n",
        "    area = math.pi * radius * radius\n",
        "    return area\n",
        "\n",
        "def main():\n",
        "    shape = input(\"Choose a shape: 'S' for square, 'R' for rectangle, 'C' for circle: \")\n",
        "    shape = shape.upper()\n",
        "\n",
        "    if shape == 'S':\n",
        "        area = calculate_square_area()\n",
        "        print(\"The area of the square is:\", area)\n",
        "    elif shape == 'R':\n",
        "        area = calculate_rectangle_area()\n",
        "        print(\"The area of the rectangle is:\", area)\n",
        "    elif shape == 'C':\n",
        "        area = calculate_circle_area()\n",
        "        print(\"The area of the circle is:\", area)\n",
        "    else:\n",
        "        print(\"Invalid shape choice.\")\n",
        "\n",
        "if __name__ == \"__main__\":\n",
        "    main()\n"
      ],
      "metadata": {
        "id": "Cd_QPtwL85j_",
        "colab": {
          "base_uri": "https://localhost:8080/"
        },
        "outputId": "1f954a66-86cc-4be1-a920-b5519e631225"
      },
      "execution_count": 2,
      "outputs": [
        {
          "output_type": "stream",
          "name": "stdout",
          "text": [
            "Choose a shape: 'S' for square, 'R' for rectangle, 'C' for circle: C\n",
            "Enter the radius: 6.77\n",
            "The area of the circle is: 143.98830193271561\n"
          ]
        }
      ]
    }
  ]
}