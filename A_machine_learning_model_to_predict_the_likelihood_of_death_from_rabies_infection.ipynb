{
  "cells": [
    {
      "cell_type": "markdown",
      "metadata": {
        "id": "view-in-github",
        "colab_type": "text"
      },
      "source": [
        "<a href=\"https://colab.research.google.com/github/Peshniwah1/AI_Modelling_MUK/blob/main/A_machine_learning_model_to_predict_the_likelihood_of_death_from_rabies_infection.ipynb\" target=\"_parent\"><img src=\"https://colab.research.google.com/assets/colab-badge.svg\" alt=\"Open In Colab\"/></a>"
      ]
    },
    {
      "cell_type": "code",
      "execution_count": null,
      "metadata": {
        "id": "KWCQZFipDuMJ"
      },
      "outputs": [],
      "source": [
        "# Supressing the warning messages\n",
        "import warnings\n",
        "warnings.filterwarnings('ignore')\n"
      ]
    },
    {
      "cell_type": "code",
      "execution_count": null,
      "metadata": {
        "id": "eoPL4EDSHPMb"
      },
      "outputs": [],
      "source": [
        "# Import libraries\n",
        "import pandas as pd\n",
        "import numpy as np\n",
        "import seaborn as sns\n",
        "import matplotlib.pyplot as plt\n"
      ]
    },
    {
      "cell_type": "code",
      "execution_count": null,
      "metadata": {
        "id": "hKRLOwYoL67c"
      },
      "outputs": [],
      "source": [
        "import pandas as pd"
      ]
    },
    {
      "cell_type": "code",
      "execution_count": null,
      "metadata": {
        "id": "tjszblFJL8ni"
      },
      "outputs": [],
      "source": [
        "data = pd.read_csv('/content/sample_data/general_info.csv')\n"
      ]
    },
    {
      "cell_type": "code",
      "execution_count": null,
      "metadata": {
        "id": "fuJp3sAvMOiF"
      },
      "outputs": [],
      "source": [
        "data = pd.read_csv('/content/sample_data/rabies_bite.csv')"
      ]
    },
    {
      "cell_type": "code",
      "execution_count": null,
      "metadata": {
        "id": "aSnvPdp9MgMr"
      },
      "outputs": [],
      "source": [
        "\n",
        "# Reading the dataset\n",
        "\n",
        "# General_info Dataset\n",
        "Generalinfo = pd.read_csv('/content/sample_data/general_info.csv')\n",
        "\n",
        "# rabies_bite Dataset\n",
        "RabiesBites = pd.read_csv('/content/sample_data/rabies_bite.csv')\n"
      ]
    },
    {
      "cell_type": "code",
      "execution_count": null,
      "metadata": {
        "colab": {
          "base_uri": "https://localhost:8080/",
          "height": 458
        },
        "id": "1kAZ-qNaMyxp",
        "outputId": "e7c86b2f-6fff-422e-c120-57ca6b602f5c"
      },
      "outputs": [
        {
          "data": {
            "text/html": [
              "\n",
              "  <div id=\"df-b1ec9ae7-1e69-45a2-83af-e91640f8bbc6\">\n",
              "    <div class=\"colab-df-container\">\n",
              "      <div>\n",
              "<style scoped>\n",
              "    .dataframe tbody tr th:only-of-type {\n",
              "        vertical-align: middle;\n",
              "    }\n",
              "\n",
              "    .dataframe tbody tr th {\n",
              "        vertical-align: top;\n",
              "    }\n",
              "\n",
              "    .dataframe thead th {\n",
              "        text-align: right;\n",
              "    }\n",
              "</style>\n",
              "<table border=\"1\" class=\"dataframe\">\n",
              "  <thead>\n",
              "    <tr style=\"text-align: right;\">\n",
              "      <th></th>\n",
              "      <th>District</th>\n",
              "      <th>Month</th>\n",
              "      <th>Suspected cases in animals</th>\n",
              "      <th>Suspected bites by animals</th>\n",
              "      <th>Deaths</th>\n",
              "      <th>Emergency vaccinations</th>\n",
              "      <th>Dogs</th>\n",
              "      <th>Cats</th>\n",
              "      <th>Pets destroyed</th>\n",
              "      <th>Rainfall</th>\n",
              "      <th>Water</th>\n",
              "      <th>Grazing</th>\n",
              "    </tr>\n",
              "  </thead>\n",
              "  <tbody>\n",
              "    <tr>\n",
              "      <th>1224</th>\n",
              "      <td>NTUNGAMO</td>\n",
              "      <td>31-Dec-02</td>\n",
              "      <td>4</td>\n",
              "      <td>2</td>\n",
              "      <td>0</td>\n",
              "      <td>0</td>\n",
              "      <td>20</td>\n",
              "      <td>3</td>\n",
              "      <td>0</td>\n",
              "      <td>1.0</td>\n",
              "      <td>2.0</td>\n",
              "      <td>2.0</td>\n",
              "    </tr>\n",
              "    <tr>\n",
              "      <th>1225</th>\n",
              "      <td>MUBENDE</td>\n",
              "      <td>31-Dec-02</td>\n",
              "      <td>0</td>\n",
              "      <td>0</td>\n",
              "      <td>0</td>\n",
              "      <td>0</td>\n",
              "      <td>43</td>\n",
              "      <td>4</td>\n",
              "      <td>0</td>\n",
              "      <td>3.0</td>\n",
              "      <td>2.0</td>\n",
              "      <td>3.0</td>\n",
              "    </tr>\n",
              "    <tr>\n",
              "      <th>1226</th>\n",
              "      <td>MASINDI</td>\n",
              "      <td>31-Dec-02</td>\n",
              "      <td>1</td>\n",
              "      <td>2</td>\n",
              "      <td>0</td>\n",
              "      <td>0</td>\n",
              "      <td>72</td>\n",
              "      <td>2</td>\n",
              "      <td>1</td>\n",
              "      <td>2.0</td>\n",
              "      <td>2.0</td>\n",
              "      <td>2.0</td>\n",
              "    </tr>\n",
              "    <tr>\n",
              "      <th>1227</th>\n",
              "      <td>WAKISO</td>\n",
              "      <td>31-Dec-02</td>\n",
              "      <td>8</td>\n",
              "      <td>0</td>\n",
              "      <td>0</td>\n",
              "      <td>0</td>\n",
              "      <td>163</td>\n",
              "      <td>26</td>\n",
              "      <td>5</td>\n",
              "      <td>3.0</td>\n",
              "      <td>2.0</td>\n",
              "      <td>3.0</td>\n",
              "    </tr>\n",
              "    <tr>\n",
              "      <th>1228</th>\n",
              "      <td>BUGIRI</td>\n",
              "      <td>31-Dec-02</td>\n",
              "      <td>1</td>\n",
              "      <td>1</td>\n",
              "      <td>0</td>\n",
              "      <td>1</td>\n",
              "      <td>0</td>\n",
              "      <td>0</td>\n",
              "      <td>0</td>\n",
              "      <td>3.0</td>\n",
              "      <td>2.0</td>\n",
              "      <td>3.0</td>\n",
              "    </tr>\n",
              "  </tbody>\n",
              "</table>\n",
              "</div>\n",
              "      <button class=\"colab-df-convert\" onclick=\"convertToInteractive('df-b1ec9ae7-1e69-45a2-83af-e91640f8bbc6')\"\n",
              "              title=\"Convert this dataframe to an interactive table.\"\n",
              "              style=\"display:none;\">\n",
              "        \n",
              "  <svg xmlns=\"http://www.w3.org/2000/svg\" height=\"24px\"viewBox=\"0 0 24 24\"\n",
              "       width=\"24px\">\n",
              "    <path d=\"M0 0h24v24H0V0z\" fill=\"none\"/>\n",
              "    <path d=\"M18.56 5.44l.94 2.06.94-2.06 2.06-.94-2.06-.94-.94-2.06-.94 2.06-2.06.94zm-11 1L8.5 8.5l.94-2.06 2.06-.94-2.06-.94L8.5 2.5l-.94 2.06-2.06.94zm10 10l.94 2.06.94-2.06 2.06-.94-2.06-.94-.94-2.06-.94 2.06-2.06.94z\"/><path d=\"M17.41 7.96l-1.37-1.37c-.4-.4-.92-.59-1.43-.59-.52 0-1.04.2-1.43.59L10.3 9.45l-7.72 7.72c-.78.78-.78 2.05 0 2.83L4 21.41c.39.39.9.59 1.41.59.51 0 1.02-.2 1.41-.59l7.78-7.78 2.81-2.81c.8-.78.8-2.07 0-2.86zM5.41 20L4 18.59l7.72-7.72 1.47 1.35L5.41 20z\"/>\n",
              "  </svg>\n",
              "      </button>\n",
              "      \n",
              "  <style>\n",
              "    .colab-df-container {\n",
              "      display:flex;\n",
              "      flex-wrap:wrap;\n",
              "      gap: 12px;\n",
              "    }\n",
              "\n",
              "    .colab-df-convert {\n",
              "      background-color: #E8F0FE;\n",
              "      border: none;\n",
              "      border-radius: 50%;\n",
              "      cursor: pointer;\n",
              "      display: none;\n",
              "      fill: #1967D2;\n",
              "      height: 32px;\n",
              "      padding: 0 0 0 0;\n",
              "      width: 32px;\n",
              "    }\n",
              "\n",
              "    .colab-df-convert:hover {\n",
              "      background-color: #E2EBFA;\n",
              "      box-shadow: 0px 1px 2px rgba(60, 64, 67, 0.3), 0px 1px 3px 1px rgba(60, 64, 67, 0.15);\n",
              "      fill: #174EA6;\n",
              "    }\n",
              "\n",
              "    [theme=dark] .colab-df-convert {\n",
              "      background-color: #3B4455;\n",
              "      fill: #D2E3FC;\n",
              "    }\n",
              "\n",
              "    [theme=dark] .colab-df-convert:hover {\n",
              "      background-color: #434B5C;\n",
              "      box-shadow: 0px 1px 3px 1px rgba(0, 0, 0, 0.15);\n",
              "      filter: drop-shadow(0px 1px 2px rgba(0, 0, 0, 0.3));\n",
              "      fill: #FFFFFF;\n",
              "    }\n",
              "  </style>\n",
              "\n",
              "      <script>\n",
              "        const buttonEl =\n",
              "          document.querySelector('#df-b1ec9ae7-1e69-45a2-83af-e91640f8bbc6 button.colab-df-convert');\n",
              "        buttonEl.style.display =\n",
              "          google.colab.kernel.accessAllowed ? 'block' : 'none';\n",
              "\n",
              "        async function convertToInteractive(key) {\n",
              "          const element = document.querySelector('#df-b1ec9ae7-1e69-45a2-83af-e91640f8bbc6');\n",
              "          const dataTable =\n",
              "            await google.colab.kernel.invokeFunction('convertToInteractive',\n",
              "                                                     [key], {});\n",
              "          if (!dataTable) return;\n",
              "\n",
              "          const docLinkHtml = 'Like what you see? Visit the ' +\n",
              "            '<a target=\"_blank\" href=https://colab.research.google.com/notebooks/data_table.ipynb>data table notebook</a>'\n",
              "            + ' to learn more about interactive tables.';\n",
              "          element.innerHTML = '';\n",
              "          dataTable['output_type'] = 'display_data';\n",
              "          await google.colab.output.renderOutput(dataTable, element);\n",
              "          const docLink = document.createElement('div');\n",
              "          docLink.innerHTML = docLinkHtml;\n",
              "          element.appendChild(docLink);\n",
              "        }\n",
              "      </script>\n",
              "    </div>\n",
              "  </div>\n",
              "  "
            ],
            "text/plain": [
              "      District      Month  Suspected cases in animals  \\\n",
              "1224  NTUNGAMO  31-Dec-02                           4   \n",
              "1225   MUBENDE  31-Dec-02                           0   \n",
              "1226   MASINDI  31-Dec-02                           1   \n",
              "1227    WAKISO  31-Dec-02                           8   \n",
              "1228    BUGIRI  31-Dec-02                           1   \n",
              "\n",
              "      Suspected bites by animals  Deaths  Emergency vaccinations  Dogs  Cats  \\\n",
              "1224                           2       0                       0    20     3   \n",
              "1225                           0       0                       0    43     4   \n",
              "1226                           2       0                       0    72     2   \n",
              "1227                           0       0                       0   163    26   \n",
              "1228                           1       0                       1     0     0   \n",
              "\n",
              "      Pets destroyed  Rainfall  Water  Grazing  \n",
              "1224               0       1.0    2.0      2.0  \n",
              "1225               0       3.0    2.0      3.0  \n",
              "1226               1       2.0    2.0      2.0  \n",
              "1227               5       3.0    2.0      3.0  \n",
              "1228               0       3.0    2.0      3.0  "
            ]
          },
          "execution_count": 22,
          "metadata": {},
          "output_type": "execute_result"
        }
      ],
      "source": [
        "# merge the two dataframes on columns 'Month' and 'District'\n",
        "Rabies_df = pd.merge(RabiesBites, Generalinfo, on =['Month','District'], how = 'left')\n",
        "\n",
        "# Printing sample data\n",
        "# Start observing the Quantitative/Categorical/Qualitative variables\n",
        "Rabies_df.tail()"
      ]
    },
    {
      "cell_type": "code",
      "execution_count": null,
      "metadata": {
        "colab": {
          "base_uri": "https://localhost:8080/",
          "height": 449
        },
        "id": "vWY4BNJRNCBL",
        "outputId": "0697c4ae-714a-4dc7-d7d9-c2dc6d5fb54f"
      },
      "outputs": [
        {
          "data": {
            "image/png": "[encoded data removed]",
            "text/plain": [
              "<Figure size 640x480 with 1 Axes>"
            ]
          },
          "metadata": {},
          "output_type": "display_data"
        }
      ],
      "source": [
        "\n",
        "# Plotting the histogram using seaborn\n",
        "sns.histplot(data=Rabies_df, x='Deaths')\n",
        "\n",
        "# Adding labels and title\n",
        "plt.xlabel('Number of Deaths')\n",
        "plt.ylabel('Fequency')\n",
        "\n",
        "# Display the Histogram plot\n",
        "plt.show()"
      ]
    },
    {
      "cell_type": "code",
      "execution_count": null,
      "metadata": {
        "colab": {
          "base_uri": "https://localhost:8080/"
        },
        "id": "zjgJFZ7aSUHL",
        "outputId": "f10daf20-7426-43e3-9227-6d9afd246014"
      },
      "outputs": [
        {
          "name": "stdout",
          "output_type": "stream",
          "text": [
            "<class 'pandas.core.frame.DataFrame'>\n",
            "Int64Index: 1229 entries, 0 to 1228\n",
            "Data columns (total 12 columns):\n",
            " #   Column                      Non-Null Count  Dtype  \n",
            "---  ------                      --------------  -----  \n",
            " 0   District                    1229 non-null   object \n",
            " 1   Month                       1229 non-null   object \n",
            " 2   Suspected cases in animals  1229 non-null   int64  \n",
            " 3   Suspected bites by animals  1229 non-null   int64  \n",
            " 4   Deaths                      1229 non-null   int64  \n",
            " 5   Emergency vaccinations      1229 non-null   int64  \n",
            " 6   Dogs                        1229 non-null   int64  \n",
            " 7   Cats                        1229 non-null   int64  \n",
            " 8   Pets destroyed              1229 non-null   int64  \n",
            " 9   Rainfall                    1186 non-null   float64\n",
            " 10  Water                       1186 non-null   float64\n",
            " 11  Grazing                     1186 non-null   float64\n",
            "dtypes: float64(3), int64(7), object(2)\n",
            "memory usage: 124.8+ KB\n"
          ]
        }
      ],
      "source": [
        "# Observing the summarized information of data\n",
        "# Data types, Missing values based on number of non-null values Vs total rows etc.\n",
        "# Remove those variables from data which have too many missing values (Missing Values > 30%)\n",
        "# Remove Qualitative variables which cannot be used in Machine Learning\n",
        "Rabies_df.info()"
      ]
    },
    {
      "cell_type": "code",
      "execution_count": null,
      "metadata": {
        "colab": {
          "base_uri": "https://localhost:8080/",
          "height": 528
        },
        "id": "5zPEIMtfShsC",
        "outputId": "41dd76b2-cb7c-44e8-c7a0-b9cf7b1b8882"
      },
      "outputs": [
        {
          "data": {
            "text/html": [
              "\n",
              "  <div id=\"df-931fcfc7-494c-4d64-bfe9-4dc12ede8a00\">\n",
              "    <div class=\"colab-df-container\">\n",
              "      <div>\n",
              "<style scoped>\n",
              "    .dataframe tbody tr th:only-of-type {\n",
              "        vertical-align: middle;\n",
              "    }\n",
              "\n",
              "    .dataframe tbody tr th {\n",
              "        vertical-align: top;\n",
              "    }\n",
              "\n",
              "    .dataframe thead th {\n",
              "        text-align: right;\n",
              "    }\n",
              "</style>\n",
              "<table border=\"1\" class=\"dataframe\">\n",
              "  <thead>\n",
              "    <tr style=\"text-align: right;\">\n",
              "      <th></th>\n",
              "      <th>District</th>\n",
              "      <th>Month</th>\n",
              "      <th>Suspected cases in animals</th>\n",
              "      <th>Suspected bites by animals</th>\n",
              "      <th>Deaths</th>\n",
              "      <th>Emergency vaccinations</th>\n",
              "      <th>Dogs</th>\n",
              "      <th>Cats</th>\n",
              "      <th>Pets destroyed</th>\n",
              "      <th>Rainfall</th>\n",
              "      <th>Water</th>\n",
              "      <th>Grazing</th>\n",
              "    </tr>\n",
              "  </thead>\n",
              "  <tbody>\n",
              "    <tr>\n",
              "      <th>count</th>\n",
              "      <td>1229</td>\n",
              "      <td>1229</td>\n",
              "      <td>1229.000000</td>\n",
              "      <td>1229.000000</td>\n",
              "      <td>1229.000000</td>\n",
              "      <td>1229.000000</td>\n",
              "      <td>1229.000000</td>\n",
              "      <td>1229.000000</td>\n",
              "      <td>1229.000000</td>\n",
              "      <td>1186.000000</td>\n",
              "      <td>1186.000000</td>\n",
              "      <td>1186.000000</td>\n",
              "    </tr>\n",
              "    <tr>\n",
              "      <th>unique</th>\n",
              "      <td>56</td>\n",
              "      <td>71</td>\n",
              "      <td>NaN</td>\n",
              "      <td>NaN</td>\n",
              "      <td>NaN</td>\n",
              "      <td>NaN</td>\n",
              "      <td>NaN</td>\n",
              "      <td>NaN</td>\n",
              "      <td>NaN</td>\n",
              "      <td>NaN</td>\n",
              "      <td>NaN</td>\n",
              "      <td>NaN</td>\n",
              "    </tr>\n",
              "    <tr>\n",
              "      <th>top</th>\n",
              "      <td>ARUA</td>\n",
              "      <td>31-Mar-02</td>\n",
              "      <td>NaN</td>\n",
              "      <td>NaN</td>\n",
              "      <td>NaN</td>\n",
              "      <td>NaN</td>\n",
              "      <td>NaN</td>\n",
              "      <td>NaN</td>\n",
              "      <td>NaN</td>\n",
              "      <td>NaN</td>\n",
              "      <td>NaN</td>\n",
              "      <td>NaN</td>\n",
              "    </tr>\n",
              "    <tr>\n",
              "      <th>freq</th>\n",
              "      <td>61</td>\n",
              "      <td>41</td>\n",
              "      <td>NaN</td>\n",
              "      <td>NaN</td>\n",
              "      <td>NaN</td>\n",
              "      <td>NaN</td>\n",
              "      <td>NaN</td>\n",
              "      <td>NaN</td>\n",
              "      <td>NaN</td>\n",
              "      <td>NaN</td>\n",
              "      <td>NaN</td>\n",
              "      <td>NaN</td>\n",
              "    </tr>\n",
              "    <tr>\n",
              "      <th>mean</th>\n",
              "      <td>NaN</td>\n",
              "      <td>NaN</td>\n",
              "      <td>8.011391</td>\n",
              "      <td>7.529699</td>\n",
              "      <td>0.112286</td>\n",
              "      <td>5.074044</td>\n",
              "      <td>146.211554</td>\n",
              "      <td>7.298617</td>\n",
              "      <td>5.185517</td>\n",
              "      <td>2.574199</td>\n",
              "      <td>2.236088</td>\n",
              "      <td>2.427487</td>\n",
              "    </tr>\n",
              "    <tr>\n",
              "      <th>std</th>\n",
              "      <td>NaN</td>\n",
              "      <td>NaN</td>\n",
              "      <td>86.073192</td>\n",
              "      <td>11.425804</td>\n",
              "      <td>0.773389</td>\n",
              "      <td>16.968746</td>\n",
              "      <td>318.678267</td>\n",
              "      <td>26.655777</td>\n",
              "      <td>19.600649</td>\n",
              "      <td>1.393163</td>\n",
              "      <td>0.747370</td>\n",
              "      <td>1.146730</td>\n",
              "    </tr>\n",
              "    <tr>\n",
              "      <th>min</th>\n",
              "      <td>NaN</td>\n",
              "      <td>NaN</td>\n",
              "      <td>0.000000</td>\n",
              "      <td>0.000000</td>\n",
              "      <td>0.000000</td>\n",
              "      <td>0.000000</td>\n",
              "      <td>0.000000</td>\n",
              "      <td>0.000000</td>\n",
              "      <td>0.000000</td>\n",
              "      <td>0.000000</td>\n",
              "      <td>0.000000</td>\n",
              "      <td>0.000000</td>\n",
              "    </tr>\n",
              "    <tr>\n",
              "      <th>25%</th>\n",
              "      <td>NaN</td>\n",
              "      <td>NaN</td>\n",
              "      <td>0.000000</td>\n",
              "      <td>0.000000</td>\n",
              "      <td>0.000000</td>\n",
              "      <td>0.000000</td>\n",
              "      <td>0.000000</td>\n",
              "      <td>0.000000</td>\n",
              "      <td>0.000000</td>\n",
              "      <td>2.000000</td>\n",
              "      <td>2.000000</td>\n",
              "      <td>2.000000</td>\n",
              "    </tr>\n",
              "    <tr>\n",
              "      <th>50%</th>\n",
              "      <td>NaN</td>\n",
              "      <td>NaN</td>\n",
              "      <td>1.000000</td>\n",
              "      <td>3.000000</td>\n",
              "      <td>0.000000</td>\n",
              "      <td>0.000000</td>\n",
              "      <td>20.000000</td>\n",
              "      <td>0.000000</td>\n",
              "      <td>0.000000</td>\n",
              "      <td>3.000000</td>\n",
              "      <td>2.000000</td>\n",
              "      <td>3.000000</td>\n",
              "    </tr>\n",
              "    <tr>\n",
              "      <th>75%</th>\n",
              "      <td>NaN</td>\n",
              "      <td>NaN</td>\n",
              "      <td>7.000000</td>\n",
              "      <td>10.000000</td>\n",
              "      <td>0.000000</td>\n",
              "      <td>4.000000</td>\n",
              "      <td>132.000000</td>\n",
              "      <td>4.000000</td>\n",
              "      <td>2.000000</td>\n",
              "      <td>3.000000</td>\n",
              "      <td>3.000000</td>\n",
              "      <td>3.000000</td>\n",
              "    </tr>\n",
              "    <tr>\n",
              "      <th>max</th>\n",
              "      <td>NaN</td>\n",
              "      <td>NaN</td>\n",
              "      <td>3000.000000</td>\n",
              "      <td>84.000000</td>\n",
              "      <td>20.000000</td>\n",
              "      <td>316.000000</td>\n",
              "      <td>3700.000000</td>\n",
              "      <td>478.000000</td>\n",
              "      <td>250.000000</td>\n",
              "      <td>33.000000</td>\n",
              "      <td>3.000000</td>\n",
              "      <td>33.000000</td>\n",
              "    </tr>\n",
              "  </tbody>\n",
              "</table>\n",
              "</div>\n",
              "      <button class=\"colab-df-convert\" onclick=\"convertToInteractive('df-931fcfc7-494c-4d64-bfe9-4dc12ede8a00')\"\n",
              "              title=\"Convert this dataframe to an interactive table.\"\n",
              "              style=\"display:none;\">\n",
              "        \n",
              "  <svg xmlns=\"http://www.w3.org/2000/svg\" height=\"24px\"viewBox=\"0 0 24 24\"\n",
              "       width=\"24px\">\n",
              "    <path d=\"M0 0h24v24H0V0z\" fill=\"none\"/>\n",
              "    <path d=\"M18.56 5.44l.94 2.06.94-2.06 2.06-.94-2.06-.94-.94-2.06-.94 2.06-2.06.94zm-11 1L8.5 8.5l.94-2.06 2.06-.94-2.06-.94L8.5 2.5l-.94 2.06-2.06.94zm10 10l.94 2.06.94-2.06 2.06-.94-2.06-.94-.94-2.06-.94 2.06-2.06.94z\"/><path d=\"M17.41 7.96l-1.37-1.37c-.4-.4-.92-.59-1.43-.59-.52 0-1.04.2-1.43.59L10.3 9.45l-7.72 7.72c-.78.78-.78 2.05 0 2.83L4 21.41c.39.39.9.59 1.41.59.51 0 1.02-.2 1.41-.59l7.78-7.78 2.81-2.81c.8-.78.8-2.07 0-2.86zM5.41 20L4 18.59l7.72-7.72 1.47 1.35L5.41 20z\"/>\n",
              "  </svg>\n",
              "      </button>\n",
              "      \n",
              "  <style>\n",
              "    .colab-df-container {\n",
              "      display:flex;\n",
              "      flex-wrap:wrap;\n",
              "      gap: 12px;\n",
              "    }\n",
              "\n",
              "    .colab-df-convert {\n",
              "      background-color: #E8F0FE;\n",
              "      border: none;\n",
              "      border-radius: 50%;\n",
              "      cursor: pointer;\n",
              "      display: none;\n",
              "      fill: #1967D2;\n",
              "      height: 32px;\n",
              "      padding: 0 0 0 0;\n",
              "      width: 32px;\n",
              "    }\n",
              "\n",
              "    .colab-df-convert:hover {\n",
              "      background-color: #E2EBFA;\n",
              "      box-shadow: 0px 1px 2px rgba(60, 64, 67, 0.3), 0px 1px 3px 1px rgba(60, 64, 67, 0.15);\n",
              "      fill: #174EA6;\n",
              "    }\n",
              "\n",
              "    [theme=dark] .colab-df-convert {\n",
              "      background-color: #3B4455;\n",
              "      fill: #D2E3FC;\n",
              "    }\n",
              "\n",
              "    [theme=dark] .colab-df-convert:hover {\n",
              "      background-color: #434B5C;\n",
              "      box-shadow: 0px 1px 3px 1px rgba(0, 0, 0, 0.15);\n",
              "      filter: drop-shadow(0px 1px 2px rgba(0, 0, 0, 0.3));\n",
              "      fill: #FFFFFF;\n",
              "    }\n",
              "  </style>\n",
              "\n",
              "      <script>\n",
              "        const buttonEl =\n",
              "          document.querySelector('#df-931fcfc7-494c-4d64-bfe9-4dc12ede8a00 button.colab-df-convert');\n",
              "        buttonEl.style.display =\n",
              "          google.colab.kernel.accessAllowed ? 'block' : 'none';\n",
              "\n",
              "        async function convertToInteractive(key) {\n",
              "          const element = document.querySelector('#df-931fcfc7-494c-4d64-bfe9-4dc12ede8a00');\n",
              "          const dataTable =\n",
              "            await google.colab.kernel.invokeFunction('convertToInteractive',\n",
              "                                                     [key], {});\n",
              "          if (!dataTable) return;\n",
              "\n",
              "          const docLinkHtml = 'Like what you see? Visit the ' +\n",
              "            '<a target=\"_blank\" href=https://colab.research.google.com/notebooks/data_table.ipynb>data table notebook</a>'\n",
              "            + ' to learn more about interactive tables.';\n",
              "          element.innerHTML = '';\n",
              "          dataTable['output_type'] = 'display_data';\n",
              "          await google.colab.output.renderOutput(dataTable, element);\n",
              "          const docLink = document.createElement('div');\n",
              "          docLink.innerHTML = docLinkHtml;\n",
              "          element.appendChild(docLink);\n",
              "        }\n",
              "      </script>\n",
              "    </div>\n",
              "  </div>\n",
              "  "
            ],
            "text/plain": [
              "       District      Month  Suspected cases in animals  \\\n",
              "count      1229       1229                 1229.000000   \n",
              "unique       56         71                         NaN   \n",
              "top        ARUA  31-Mar-02                         NaN   \n",
              "freq         61         41                         NaN   \n",
              "mean        NaN        NaN                    8.011391   \n",
              "std         NaN        NaN                   86.073192   \n",
              "min         NaN        NaN                    0.000000   \n",
              "25%         NaN        NaN                    0.000000   \n",
              "50%         NaN        NaN                    1.000000   \n",
              "75%         NaN        NaN                    7.000000   \n",
              "max         NaN        NaN                 3000.000000   \n",
              "\n",
              "        Suspected bites by animals       Deaths  Emergency vaccinations  \\\n",
              "count                  1229.000000  1229.000000             1229.000000   \n",
              "unique                         NaN          NaN                     NaN   \n",
              "top                            NaN          NaN                     NaN   \n",
              "freq                           NaN          NaN                     NaN   \n",
              "mean                      7.529699     0.112286                5.074044   \n",
              "std                      11.425804     0.773389               16.968746   \n",
              "min                       0.000000     0.000000                0.000000   \n",
              "25%                       0.000000     0.000000                0.000000   \n",
              "50%                       3.000000     0.000000                0.000000   \n",
              "75%                      10.000000     0.000000                4.000000   \n",
              "max                      84.000000    20.000000              316.000000   \n",
              "\n",
              "               Dogs         Cats  Pets destroyed     Rainfall        Water  \\\n",
              "count   1229.000000  1229.000000     1229.000000  1186.000000  1186.000000   \n",
              "unique          NaN          NaN             NaN          NaN          NaN   \n",
              "top             NaN          NaN             NaN          NaN          NaN   \n",
              "freq            NaN          NaN             NaN          NaN          NaN   \n",
              "mean     146.211554     7.298617        5.185517     2.574199     2.236088   \n",
              "std      318.678267    26.655777       19.600649     1.393163     0.747370   \n",
              "min        0.000000     0.000000        0.000000     0.000000     0.000000   \n",
              "25%        0.000000     0.000000        0.000000     2.000000     2.000000   \n",
              "50%       20.000000     0.000000        0.000000     3.000000     2.000000   \n",
              "75%      132.000000     4.000000        2.000000     3.000000     3.000000   \n",
              "max     3700.000000   478.000000      250.000000    33.000000     3.000000   \n",
              "\n",
              "            Grazing  \n",
              "count   1186.000000  \n",
              "unique          NaN  \n",
              "top             NaN  \n",
              "freq            NaN  \n",
              "mean       2.427487  \n",
              "std        1.146730  \n",
              "min        0.000000  \n",
              "25%        2.000000  \n",
              "50%        3.000000  \n",
              "75%        3.000000  \n",
              "max       33.000000  "
            ]
          },
          "execution_count": 25,
          "metadata": {},
          "output_type": "execute_result"
        }
      ],
      "source": [
        "# Looking at the descriptive statistics of the data\n",
        "Rabies_df.describe(include='all')\n"
      ]
    },
    {
      "cell_type": "code",
      "execution_count": 28,
      "metadata": {
        "colab": {
          "base_uri": "https://localhost:8080/",
          "height": 183
        },
        "id": "pV52j7zGSrbo",
        "outputId": "aff527cd-f03a-4762-be64-5c67ff1a84f3"
      },
      "outputs": [
        {
          "output_type": "error",
          "ename": "NameError",
          "evalue": "ignored",
          "traceback": [
            "\u001b[0;31m---------------------------------------------------------------------------\u001b[0m",
            "\u001b[0;31mNameError\u001b[0m                                 Traceback (most recent call last)",
            "\u001b[0;32m<ipython-input-28-d2a6f3952cbf>\u001b[0m in \u001b[0;36m<cell line: 2>\u001b[0;34m()\u001b[0m\n\u001b[1;32m      1\u001b[0m \u001b[0;31m# Looking at the descriptive statistics of the data\u001b[0m\u001b[0;34m\u001b[0m\u001b[0;34m\u001b[0m\u001b[0m\n\u001b[0;32m----> 2\u001b[0;31m \u001b[0mRabies_df\u001b[0m\u001b[0;34m.\u001b[0m\u001b[0mdescribe\u001b[0m\u001b[0;34m(\u001b[0m\u001b[0minclude\u001b[0m\u001b[0;34m=\u001b[0m\u001b[0;34m'all'\u001b[0m\u001b[0;34m)\u001b[0m\u001b[0;34m\u001b[0m\u001b[0;34m\u001b[0m\u001b[0m\n\u001b[0m",
            "\u001b[0;31mNameError\u001b[0m: name 'Rabies_df' is not defined"
          ]
        }
      ],
      "source": [
        "# Looking at the descriptive statistics of the data\n",
        "Rabies_df.describe(include='all')\n"
      ]
    },
    {
      "cell_type": "code",
      "execution_count": null,
      "metadata": {
        "colab": {
          "base_uri": "https://localhost:8080/"
        },
        "id": "KCwdPpyGSx7r",
        "outputId": "b32be608-1277-452b-93d6-148c29c3aa3e"
      },
      "outputs": [
        {
          "data": {
            "text/plain": [
              "District                       0\n",
              "Month                          0\n",
              "Suspected cases in animals     0\n",
              "Suspected bites by animals     0\n",
              "Deaths                         0\n",
              "Emergency vaccinations         0\n",
              "Dogs                           0\n",
              "Cats                           0\n",
              "Pets destroyed                 0\n",
              "Rainfall                      43\n",
              "Water                         43\n",
              "Grazing                       43\n",
              "dtype: int64"
            ]
          },
          "execution_count": 27,
          "metadata": {},
          "output_type": "execute_result"
        }
      ],
      "source": [
        "# Finding how many missing values are there for each column\n",
        "Rabies_df.isnull().sum()\n"
      ]
    },
    {
      "cell_type": "code",
      "execution_count": 29,
      "metadata": {
        "id": "0sTpkAnuS3o9",
        "colab": {
          "base_uri": "https://localhost:8080/",
          "height": 217
        },
        "outputId": "b36047ca-2723-4634-d9fe-4f2b5902e74a"
      },
      "outputs": [
        {
          "output_type": "error",
          "ename": "NameError",
          "evalue": "ignored",
          "traceback": [
            "\u001b[0;31m---------------------------------------------------------------------------\u001b[0m",
            "\u001b[0;31mNameError\u001b[0m                                 Traceback (most recent call last)",
            "\u001b[0;32m<ipython-input-29-b9e3cab07560>\u001b[0m in \u001b[0;36m<cell line: 2>\u001b[0;34m()\u001b[0m\n\u001b[1;32m      1\u001b[0m \u001b[0;31m# replace missing values with mode\u001b[0m\u001b[0;34m\u001b[0m\u001b[0;34m\u001b[0m\u001b[0m\n\u001b[0;32m----> 2\u001b[0;31m \u001b[0mRabies_df\u001b[0m\u001b[0;34m[\u001b[0m\u001b[0;34m'Rainfall'\u001b[0m\u001b[0;34m]\u001b[0m \u001b[0;34m=\u001b[0m \u001b[0mRabies_df\u001b[0m\u001b[0;34m[\u001b[0m\u001b[0;34m'Rainfall'\u001b[0m\u001b[0;34m]\u001b[0m\u001b[0;34m.\u001b[0m\u001b[0mfillna\u001b[0m\u001b[0;34m(\u001b[0m\u001b[0mRabies_df\u001b[0m\u001b[0;34m[\u001b[0m\u001b[0;34m'Rainfall'\u001b[0m\u001b[0;34m]\u001b[0m\u001b[0;34m.\u001b[0m\u001b[0mmode\u001b[0m\u001b[0;34m(\u001b[0m\u001b[0;34m)\u001b[0m\u001b[0;34m[\u001b[0m\u001b[0;36m0\u001b[0m\u001b[0;34m]\u001b[0m\u001b[0;34m)\u001b[0m\u001b[0;34m\u001b[0m\u001b[0;34m\u001b[0m\u001b[0m\n\u001b[0m\u001b[1;32m      3\u001b[0m \u001b[0mRabies_df\u001b[0m\u001b[0;34m[\u001b[0m\u001b[0;34m'Water'\u001b[0m\u001b[0;34m]\u001b[0m \u001b[0;34m=\u001b[0m \u001b[0mRabies_df\u001b[0m\u001b[0;34m[\u001b[0m\u001b[0;34m'Water'\u001b[0m\u001b[0;34m]\u001b[0m\u001b[0;34m.\u001b[0m\u001b[0mfillna\u001b[0m\u001b[0;34m(\u001b[0m\u001b[0mRabies_df\u001b[0m\u001b[0;34m[\u001b[0m\u001b[0;34m'Water'\u001b[0m\u001b[0;34m]\u001b[0m\u001b[0;34m.\u001b[0m\u001b[0mmode\u001b[0m\u001b[0;34m(\u001b[0m\u001b[0;34m)\u001b[0m\u001b[0;34m[\u001b[0m\u001b[0;36m0\u001b[0m\u001b[0;34m]\u001b[0m\u001b[0;34m)\u001b[0m\u001b[0;34m\u001b[0m\u001b[0;34m\u001b[0m\u001b[0m\n\u001b[1;32m      4\u001b[0m \u001b[0mRabies_df\u001b[0m\u001b[0;34m[\u001b[0m\u001b[0;34m'Grazing'\u001b[0m\u001b[0;34m]\u001b[0m \u001b[0;34m=\u001b[0m \u001b[0mRabies_df\u001b[0m\u001b[0;34m[\u001b[0m\u001b[0;34m'Grazing'\u001b[0m\u001b[0;34m]\u001b[0m\u001b[0;34m.\u001b[0m\u001b[0mfillna\u001b[0m\u001b[0;34m(\u001b[0m\u001b[0mRabies_df\u001b[0m\u001b[0;34m[\u001b[0m\u001b[0;34m'Grazing'\u001b[0m\u001b[0;34m]\u001b[0m\u001b[0;34m.\u001b[0m\u001b[0mmode\u001b[0m\u001b[0;34m(\u001b[0m\u001b[0;34m)\u001b[0m\u001b[0;34m[\u001b[0m\u001b[0;36m0\u001b[0m\u001b[0;34m]\u001b[0m\u001b[0;34m)\u001b[0m\u001b[0;34m\u001b[0m\u001b[0;34m\u001b[0m\u001b[0m\n",
            "\u001b[0;31mNameError\u001b[0m: name 'Rabies_df' is not defined"
          ]
        }
      ],
      "source": [
        "\n",
        "# replace missing values with mode\n",
        "Rabies_df['Rainfall'] = Rabies_df['Rainfall'].fillna(Rabies_df['Rainfall'].mode()[0])\n",
        "Rabies_df['Water'] = Rabies_df['Water'].fillna(Rabies_df['Water'].mode()[0])\n",
        "Rabies_df['Grazing'] = Rabies_df['Grazing'].fillna(Rabies_df['Grazing'].mode()[0])\n"
      ]
    },
    {
      "cell_type": "code",
      "execution_count": null,
      "metadata": {
        "colab": {
          "base_uri": "https://localhost:8080/",
          "height": 183
        },
        "id": "NIeJtbC_TByI",
        "outputId": "e2efb9e4-0845-4f36-c7cc-5b3b9390a4b9"
      },
      "outputs": [
        {
          "output_type": "error",
          "ename": "NameError",
          "evalue": "ignored",
          "traceback": [
            "\u001b[0;31m---------------------------------------------------------------------------\u001b[0m",
            "\u001b[0;31mNameError\u001b[0m                                 Traceback (most recent call last)",
            "\u001b[0;32m<ipython-input-27-4a2ad8ccd9ae>\u001b[0m in \u001b[0;36m<cell line: 2>\u001b[0;34m()\u001b[0m\n\u001b[1;32m      1\u001b[0m \u001b[0;31m# Checking how many missing values are there for each column again\u001b[0m\u001b[0;34m\u001b[0m\u001b[0;34m\u001b[0m\u001b[0m\n\u001b[0;32m----> 2\u001b[0;31m \u001b[0mRabies_df\u001b[0m\u001b[0;34m.\u001b[0m\u001b[0misnull\u001b[0m\u001b[0;34m(\u001b[0m\u001b[0;34m)\u001b[0m\u001b[0;34m.\u001b[0m\u001b[0msum\u001b[0m\u001b[0;34m(\u001b[0m\u001b[0;34m)\u001b[0m\u001b[0;34m\u001b[0m\u001b[0;34m\u001b[0m\u001b[0m\n\u001b[0m",
            "\u001b[0;31mNameError\u001b[0m: name 'Rabies_df' is not defined"
          ]
        }
      ],
      "source": [
        "\n",
        "# Checking how many missing values are there for each column again\n",
        "Rabies_df.isnull().sum()"
      ]
    },
    {
      "cell_type": "code",
      "execution_count": null,
      "metadata": {
        "id": "x-B9TL-QTJbj",
        "colab": {
          "base_uri": "https://localhost:8080/",
          "height": 200
        },
        "outputId": "65583c79-fb40-448a-cd6c-d10dd0187994"
      },
      "outputs": [
        {
          "output_type": "error",
          "ename": "NameError",
          "evalue": "ignored",
          "traceback": [
            "\u001b[0;31m---------------------------------------------------------------------------\u001b[0m",
            "\u001b[0;31mNameError\u001b[0m                                 Traceback (most recent call last)",
            "\u001b[0;32m<ipython-input-24-c76f9e96290e>\u001b[0m in \u001b[0;36m<cell line: 3>\u001b[0;34m()\u001b[0m\n\u001b[1;32m      1\u001b[0m \u001b[0;31m# Droping 'District' and 'Month' columns\u001b[0m\u001b[0;34m\u001b[0m\u001b[0;34m\u001b[0m\u001b[0m\n\u001b[1;32m      2\u001b[0m \u001b[0;31m# Rabies_df = Rabies_df.drop('District', axis=1)\u001b[0m\u001b[0;34m\u001b[0m\u001b[0;34m\u001b[0m\u001b[0m\n\u001b[0;32m----> 3\u001b[0;31m \u001b[0mRabies_df\u001b[0m \u001b[0;34m=\u001b[0m \u001b[0mRabies_df\u001b[0m\u001b[0;34m.\u001b[0m\u001b[0mdrop\u001b[0m\u001b[0;34m(\u001b[0m\u001b[0;34m'Month'\u001b[0m\u001b[0;34m,\u001b[0m \u001b[0maxis\u001b[0m\u001b[0;34m=\u001b[0m\u001b[0;36m1\u001b[0m\u001b[0;34m)\u001b[0m\u001b[0;34m\u001b[0m\u001b[0;34m\u001b[0m\u001b[0m\n\u001b[0m",
            "\u001b[0;31mNameError\u001b[0m: name 'Rabies_df' is not defined"
          ]
        }
      ],
      "source": [
        "\n",
        "# Droping 'District' and 'Month' columns\n",
        "# Rabies_df = Rabies_df.drop('District', axis=1)\n",
        "Rabies_df = Rabies_df.drop('Month', axis=1)\n"
      ]
    },
    {
      "cell_type": "code",
      "execution_count": null,
      "metadata": {
        "colab": {
          "base_uri": "https://localhost:8080/",
          "height": 630
        },
        "id": "spe7SkasTQt7",
        "outputId": "302636b6-59b7-4d17-e432-a8a7f6096b5c"
      },
      "outputs": [
        {
          "data": {
            "text/plain": [
              "<Axes: >"
            ]
          },
          "execution_count": 31,
          "metadata": {},
          "output_type": "execute_result"
        },
        {
          "data": {
            "image/png": "[encoded data removed]",
            "text/plain": [
              "<Figure size 640x480 with 2 Axes>"
            ]
          },
          "metadata": {},
          "output_type": "display_data"
        }
      ],
      "source": [
        "\n",
        "# Convert any columns with string values to numeric values\n",
        "\n",
        "# Rabies_df['District'] = pd.to_numeric(Rabies_df['District'], errors='coerce')\n",
        "# Rabies_df['Month'] = pd.to_numeric(Rabies_df['Month'], errors='coerce')\n",
        "\n",
        "\n",
        "# Calculate the correlation matrix\n",
        "\n",
        "selected_columns = ['Suspected cases in animals','Suspected bites by animals','Deaths','Emergency vaccinations','Dogs','Cats','Pets destroyed']\n",
        "corr_matrix  = Rabies_df[selected_columns].corr()\n",
        "\n",
        "# Visualize the correlation matrix using a heatmap\n",
        "sns.heatmap(corr_matrix, annot=True, cmap = 'coolwarm')"
      ]
    },
    {
      "cell_type": "code",
      "source": [
        "from sklearn.preprocessing import OrdinalEncoder\n",
        "\n",
        "# Define the mapping of categories to labels\n",
        "district_labels = {\n",
        "     'AMUDAT': 1,\n",
        "    'BUGWERI': 2,\n",
        "    'BULIISA': 3,\n",
        "    'BULAMBULI': 4,\n",
        "    'KOTIDO': 5,\n",
        "    'IBANDA': 6,\n",
        "    'IGANGA': 7,\n",
        "    'KOBOKO': 8,\n",
        "    'LUWERO': 9,\n",
        "    'MBALE': 10,\n",
        "    'MOROTO': 11,\n",
        "    'MOYO': 12,\n",
        "    'MUKONO': 13,\n",
        "    'RAKAI': 14,\n",
        "    'TORORO': 15,\n",
        "    'NABILATUK': 16,\n",
        "    'KYENJOJO': 17,\n",
        "    'RUKUNGIRI': 18,\n",
        "    'YUMBE': 19,\n",
        "    'NAMUTUMBA': 21,\n",
        "    'BUSIA': 22,\n",
        "    'ABIM': 24,\n",
        "    'KUMI': 25,\n",
        "    'LUUKA': 26,\n",
        "    'ARUA': 27,\n",
        "    'KABERAMAIDO': 28,\n",
        "    'KIBOGA': 29,\n",
        "    'NAKAPIRIPIRITI': 30,  # Corrected label for 'NAKAPIRIPIRITI'\n",
        "    'SEMBABULE': 31,\n",
        "    'KAMULI': 32,\n",
        "    'KIBAALE': 33,\n",
        "    'LIRA': 34,\n",
        "    'KAPCHORWA': 35,\n",
        "    'MPIGI': 36,\n",
        "    'KASESE': 37,\n",
        "    'KITGUM': 38,\n",
        "    'BUGIRI': 39,\n",
        "    'JINJA': 40,\n",
        "    'HOIMA': 41,\n",
        "    'KANUNGU': 42,\n",
        "    'BUSHENYI': 43,\n",
        "    'MBARARA': 44,\n",
        "    'NEBBI': 45,\n",
        "    'KAYUNGA': 46,\n",
        "    'KAMPALA': 47,\n",
        "    'PADER': 48,\n",
        "    'MUBENDE': 49,\n",
        "    'MASINDI': 50,\n",
        "    'RABIES': 51,\n",
        "    'SOROTI': 52,\n",
        "    'ADJUMANI': 53,\n",
        "    'WAKISO': 54,\n",
        "    'KABAROLE': 55,\n",
        "    'BUNDIBUGYO': 56,\n",
        "    'GULU': 57,\n",
        "    'KALANGALA': 58,\n",
        "    'NTUNGAMO': 59,\n",
        "    'KATAKWI': 60,\n",
        "    'MAYUGE': 61,\n",
        "    'KAMWENGE': 62,\n",
        "    'SIRONKO': 63,\n",
        "    'KABALE': 64,\n",
        "    'NAKASONGOLA': 65,\n",
        "    'PALLISA': 66,\n",
        "    'MASAKA': 67,\n",
        "    'APAC': 68,\n",
        "    'NAKASONGOLAQ': 69,  # Corrected label for 'NAKASONGOLAQ'\n",
        "    'KISORO': 70\n",
        "}\n",
        "\n",
        "\n",
        "# Replace the values in 'District' column using the dictionary\n",
        "Rabies_df['District'].replace(district_labels, inplace=True)\n",
        "Rabies_df.head()\n"
      ],
      "metadata": {
        "id": "JyVsFnPV2ds_"
      },
      "execution_count": null,
      "outputs": []
    }
  ],
  "metadata": {
    "colab": {
      "provenance": [],
      "authorship_tag": "ABX9TyOR7AhShRWvnBS8EnF/jSj1",
      "include_colab_link": true
    },
    "kernelspec": {
      "display_name": "Python 3",
      "name": "python3"
    },
    "language_info": {
      "name": "python"
    }
  },
  "nbformat": 4,
  "nbformat_minor": 0
}